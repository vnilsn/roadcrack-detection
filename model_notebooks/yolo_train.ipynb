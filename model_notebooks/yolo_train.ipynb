{
 "cells": [
  {
   "cell_type": "code",
   "execution_count": null,
   "outputs": [],
   "source": [
    "\n",
    "from accelerate import Accelerator\n",
    "\n",
    "accelerator = Accelerator()"
   ],
   "metadata": {
    "collapsed": false
   }
  },
  {
   "cell_type": "code",
   "execution_count": null,
   "metadata": {
    "collapsed": true
   },
   "outputs": [],
   "source": [
    "from utils import *\n",
    "from datasets import load_dataset\n",
    "path_labels = \"../datasets/Norway/train/annotations/xmls/\"\n",
    "path_imgs = \"../datasets/Norway/train/images/\"\n",
    "\n",
    "create_metadata(path_imgs, path_labels)"
   ]
  },
  {
   "cell_type": "code",
   "execution_count": null,
   "outputs": [],
   "source": [
    "dataloader = load_dataset(path_imgs, split=\"train[:50]\")"
   ],
   "metadata": {
    "collapsed": false
   }
  },
  {
   "cell_type": "code",
   "execution_count": null,
   "outputs": [],
   "source": [
    "dataset = dataloader\n",
    "dataset[1]"
   ],
   "metadata": {
    "collapsed": false
   }
  },
  {
   "cell_type": "code",
   "execution_count": null,
   "outputs": [],
   "source": [
    "from transformers import YolosFeatureExtractor\n",
    "feature_extractor = YolosFeatureExtractor.from_pretrained('hustvl/yolos-small', size=(800,800)) # , reduce_labels=True"
   ],
   "metadata": {
    "collapsed": false
   }
  },
  {
   "cell_type": "code",
   "execution_count": null,
   "outputs": [],
   "source": [
    "\n",
    "def transforms(example_batch):\n",
    "    images = example_batch[\"image\"]\n",
    "    ids_ = example_batch[\"image_id\"]\n",
    "    objects = example_batch[\"annotations\"]\n",
    "    targets = [\n",
    "        {\"image_id\": id_, \"annotations\": object_} for id_, object_ in zip(ids_, objects)\n",
    "    ]\n",
    "    inputs = feature_extractor(images=images, annotations=targets , return_tensors=\"pt\")\n",
    "    return inputs\n",
    "\n",
    "#dataset = dataset.with_transform(transforms)\n"
   ],
   "metadata": {
    "collapsed": false
   }
  },
  {
   "cell_type": "code",
   "execution_count": null,
   "outputs": [],
   "source": [
    "ds = dataset.train_test_split(test_size=0.2)\n",
    "train_ds = ds[\"train\"]\n",
    "test_ds = ds[\"test\"]\n",
    "train_ds.set_transform(transforms)\n",
    "test_ds.set_transform(transforms)"
   ],
   "metadata": {
    "collapsed": false
   }
  },
  {
   "cell_type": "code",
   "execution_count": null,
   "outputs": [],
   "source": [
    "from transformers import YolosForObjectDetection\n",
    "label2id = {'D00': 0, 'D10': 1, 'D40': 2, 'D20': 3, } # 'pothole': 4\n",
    "id2label = {\"0\":'D00', \"1\":'D10', \"2\":'D40', \"3\":'D20'} # \"4\":'pothole'\n",
    "\n",
    "model = YolosForObjectDetection.from_pretrained('hustvl/yolos-small',\n",
    "                                                id2label=id2label,\n",
    "                                                label2id=label2id,\n",
    "                                                ignore_mismatched_sizes=True)"
   ],
   "metadata": {
    "collapsed": false
   }
  },
  {
   "cell_type": "code",
   "execution_count": null,
   "outputs": [],
   "source": [
    "import torch\n",
    "def collate_fn(batch):\n",
    "    pixel_values = [item[\"pixel_values\"] for item in batch]\n",
    "    labels = [item[\"labels\"] for item in batch]\n",
    "    batch = {}\n",
    "    batch[\"pixel_values\"] = torch.stack(pixel_values)\n",
    "    batch[\"labels\"] = labels\n",
    "    return batch"
   ],
   "metadata": {
    "collapsed": false
   }
  },
  {
   "cell_type": "code",
   "execution_count": null,
   "outputs": [],
   "source": [
    "from transformers import TrainingArguments, Trainer\n",
    "\n",
    "# We need to specify loss\n",
    "\n",
    "training_args = TrainingArguments(\n",
    "    output_dir=\"./results\",\n",
    "    per_device_train_batch_size=2,\n",
    "    evaluation_strategy=\"steps\",\n",
    "    num_train_epochs=1,\n",
    "    fp16=False,\n",
    "    save_steps=100,\n",
    "    eval_steps=1,\n",
    "    logging_steps=1,\n",
    "    learning_rate=2e-4,\n",
    "    save_total_limit=2,\n",
    "    remove_unused_columns=False,\n",
    ")\n",
    "trainer = Trainer(\n",
    "    model=model,\n",
    "    args=training_args,\n",
    "    train_dataset=train_ds,\n",
    "    eval_dataset=test_ds,\n",
    "    data_collator=collate_fn,\n",
    ")\n",
    "\n",
    "results = trainer.train()"
   ],
   "metadata": {
    "collapsed": false
   }
  },
  {
   "cell_type": "markdown",
   "source": [
    "# Inference (does not currently work)"
   ],
   "metadata": {
    "collapsed": false
   }
  },
  {
   "cell_type": "code",
   "execution_count": null,
   "outputs": [],
   "source": [
    "\n",
    "from transformers import pipeline, ZeroShotObjectDetectionPipeline\n",
    "object_detector = pipeline('object-detection',model=model ,feature_extractor=feature_extractor)"
   ],
   "metadata": {
    "collapsed": false
   }
  },
  {
   "cell_type": "code",
   "execution_count": null,
   "outputs": [],
   "source": [
    "import requests\n",
    "from utils import *\n",
    "from PIL import Image\n",
    "\n",
    "url = 'http://images.cocodataset.org/val2017/000000039769.jpg'\n",
    "image = Image.open(requests.get(url, stream=True).raw)\n",
    "#image = dataset[16][\"image\"]\n",
    "results = object_detector(image)\n",
    "plot_results(image, results)"
   ],
   "metadata": {
    "collapsed": false
   }
  },
  {
   "cell_type": "code",
   "execution_count": null,
   "outputs": [],
   "source": [
    "results"
   ],
   "metadata": {
    "collapsed": false
   }
  },
  {
   "cell_type": "code",
   "execution_count": null,
   "outputs": [],
   "source": [
    "url = 'http://images.cocodataset.org/val2017/000000039769.jpg'\n",
    "image = Image.open(requests.get(url, stream=True).raw)\n",
    "#image = dataset[16][\"image\"]\n",
    "inputs = feature_extractor(images=image, return_tensors=\"pt\")\n",
    "outputs = trainer.model(**inputs)\n"
   ],
   "metadata": {
    "collapsed": false
   }
  },
  {
   "cell_type": "code",
   "execution_count": null,
   "outputs": [],
   "source": [
    "target_sizes = torch.tensor(image.size)\n",
    "target_sizes\n",
    "results = feature_extractor.post_process_object_detection(outputs, threshold=0.5, target_sizes=target_sizes)"
   ],
   "metadata": {
    "collapsed": false
   }
  },
  {
   "cell_type": "code",
   "execution_count": null,
   "outputs": [],
   "source": [
    "outputs[\"logits\"].shape"
   ],
   "metadata": {
    "collapsed": false
   }
  },
  {
   "cell_type": "code",
   "execution_count": null,
   "outputs": [],
   "source": [],
   "metadata": {
    "collapsed": false
   }
  }
 ],
 "metadata": {
  "kernelspec": {
   "display_name": "Python 3",
   "language": "python",
   "name": "python3"
  },
  "language_info": {
   "codemirror_mode": {
    "name": "ipython",
    "version": 2
   },
   "file_extension": ".py",
   "mimetype": "text/x-python",
   "name": "python",
   "nbconvert_exporter": "python",
   "pygments_lexer": "ipython2",
   "version": "2.7.6"
  }
 },
 "nbformat": 4,
 "nbformat_minor": 0
}
