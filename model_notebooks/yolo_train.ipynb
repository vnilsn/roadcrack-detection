{
 "cells": [
  {
   "cell_type": "code",
   "execution_count": null,
   "metadata": {
    "collapsed": true
   },
   "outputs": [],
   "source": [
    "from utils import *\n",
    "from datasets import load_dataset\n",
    "path_labels = \"../datasets/Norway/train/annotations/xmls/\"\n",
    "path_imgs = \"../datasets/Norway/train/images/\"\n",
    "\n",
    "create_metadata(path_imgs, path_labels)\n",
    "dataset = load_dataset(path_imgs, split=\"train[:50]\")"
   ]
  }
 ],
 "metadata": {
  "kernelspec": {
   "display_name": "Python 3",
   "language": "python",
   "name": "python3"
  },
  "language_info": {
   "codemirror_mode": {
    "name": "ipython",
    "version": 2
   },
   "file_extension": ".py",
   "mimetype": "text/x-python",
   "name": "python",
   "nbconvert_exporter": "python",
   "pygments_lexer": "ipython2",
   "version": "2.7.6"
  }
 },
 "nbformat": 4,
 "nbformat_minor": 0
}
